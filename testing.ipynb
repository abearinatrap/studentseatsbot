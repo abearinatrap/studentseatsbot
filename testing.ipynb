{
 "cells": [
  {
   "cell_type": "code",
   "execution_count": 1,
   "metadata": {},
   "outputs": [
    {
     "name": "stderr",
     "output_type": "stream",
     "text": [
      "/Users/awzrenn/dev/studentseatsbot/venv/lib/python3.9/site-packages/urllib3/__init__.py:34: NotOpenSSLWarning: urllib3 v2.0 only supports OpenSSL 1.1.1+, currently the 'ssl' module is compiled with 'LibreSSL 2.8.3'. See: https://github.com/urllib3/urllib3/issues/3020\n",
      "  warnings.warn(\n"
     ]
    }
   ],
   "source": [
    "import requests\n",
    "import sys\n",
    "from bs4 import BeautifulSoup\n",
    "from pandas import DataFrame\n",
    "\n",
    "STUDENT_SEATS_SITE=\"https://studentseats.com\""
   ]
  },
  {
   "cell_type": "code",
   "execution_count": 2,
   "metadata": {},
   "outputs": [
    {
     "name": "stdout",
     "output_type": "stream",
     "text": [
      "Finding latest tickets page ...\n"
     ]
    }
   ],
   "source": [
    "school=\"Alabama\"\n",
    "sport=\"Football\"\n",
    "DELIM=\"/\"\n",
    "#os.system('cls' if os.name == 'nt' else 'clear')\n",
    "#return \"https://studentseats.com/Alabama/Alabama-Tennessee-tickets?id=211\"\n",
    "found_valid=False\n",
    "print(\"Finding latest tickets page ...\")\n",
    "rr=requests.get(STUDENT_SEATS_SITE+DELIM+school)\n"
   ]
  },
  {
   "cell_type": "code",
   "execution_count": 3,
   "metadata": {},
   "outputs": [
    {
     "name": "stdout",
     "output_type": "stream",
     "text": [
      "<div class=\"container tab-pane active justify-content-sm-start justify-content-xs-center flex-wrap overflow-auto\" id=\"Football\">\n",
      "<a class=\"upcomingGameCard\" href=\"/Alabama/Alabama-Tennessee-tickets?id=211\">\n",
      "<div class=\"upcomingGameImageDiv\">\n",
      "<img alt=\"Alabama Football game versus Tennessee\" class=\"upcomingGameImage\" src=\"https://cdn.vox-cdn.com/thumbor/9i3rzbfpAIum_LjEcHwC_26kp8k=/0x0:4000x2667/1200x800/filters:focal(1330x1021:1970x1661)/cdn.vox-cdn.com/uploads/chorus_image/image/71504281/usa_today_19241956.0.jpg\"/>\n",
      "</div>\n",
      "<div class=\"d-flex flex-column text-left p-3\">\n",
      "<h4 style=\"overflow: hidden; text-overflow: ellipsis; white-space: nowrap;\">Alabama vs. <br/>Tennessee</h4>\n",
      "<h5 class=\"upcomingGameSpan\">October 21</h5>\n",
      "<div class=\"d-flex justify-content-between\">\n",
      "<div class=\"d-flex justify-content-end flex-column align-items-start\">\n",
      "<h5>Lowest Price</h5>\n",
      "<h3 class=\"mb-1 mt-0 font-weight-bold\">N/A</h3>\n",
      "</div>\n",
      "<div class=\"d-flex justify-content-end flex-column align-items-end\">\n",
      "<h4 class=\"m-0\" style=\"color:#adadad;\">0 Sold</h4>\n",
      "<h4 class=\"m-0\" style=\"color:#adadad;\">0 Listed</h4>\n",
      "</div>\n",
      "</div>\n",
      "<span class=\"upcomingGameSpan\">Last Sale: N/A</span>\n",
      "</div>\n",
      "<span class=\"upcomingGameSport Football\"><img alt=\"Football icon on game card\" src=\"/images/icons/Football/Icon.svg\" style=\"padding: 4px;\">Football</img></span>\n",
      "</a>\n",
      "<a class=\"upcomingGameCard\" href=\"/Alabama/Alabama-LSU-tickets?id=212\">\n",
      "<div class=\"upcomingGameImageDiv\">\n",
      "<img alt=\"Alabama Football game versus LSU\" class=\"upcomingGameImage\" src=\"https://cdn.vox-cdn.com/thumbor/4siN0_LgDGgD0_TdsOLk7Bk8vh8=/0x0:3702x2405/1200x800/filters:focal(1555x907:2147x1499)/cdn.vox-cdn.com/uploads/chorus_image/image/71540158/1351769245.0.jpg\"/>\n",
      "</div>\n",
      "<div class=\"d-flex flex-column text-left p-3\">\n",
      "<h4 style=\"overflow: hidden; text-overflow: ellipsis; white-space: nowrap;\">Alabama vs. <br/>LSU</h4>\n",
      "<h5 class=\"upcomingGameSpan\">November 4</h5>\n",
      "<div class=\"d-flex justify-content-between\">\n",
      "<div class=\"d-flex justify-content-end flex-column align-items-start\">\n",
      "<h5>Lowest Price</h5>\n",
      "<h3 class=\"mb-1 mt-0 font-weight-bold\">N/A</h3>\n",
      "</div>\n",
      "<div class=\"d-flex justify-content-end flex-column align-items-end\">\n",
      "<h4 class=\"m-0\" style=\"color:#adadad;\">0 Sold</h4>\n",
      "<h4 class=\"m-0\" style=\"color:#adadad;\">0 Listed</h4>\n",
      "</div>\n",
      "</div>\n",
      "<span class=\"upcomingGameSpan\">Last Sale: N/A</span>\n",
      "</div>\n",
      "<span class=\"upcomingGameSport Football\"><img alt=\"Football icon on game card\" src=\"/images/icons/Football/Icon.svg\" style=\"padding: 4px;\">Football</img></span>\n",
      "</a>\n",
      "<a class=\"upcomingGameCard\" href=\"/Alabama/Alabama-Chattanooga-tickets?id=213\">\n",
      "<div class=\"upcomingGameImageDiv\">\n",
      "<img alt=\"Alabama Football game versus Chattanooga\" class=\"upcomingGameImage\" src=\"https://img.bleacherreport.net/img/images/photos/003/640/688/hi-res-963c6d1b9bc1b33e24d2a23e0079514d_crop_exact.jpg?w=900&amp;h=600&amp;q=75\"/>\n",
      "</div>\n",
      "<div class=\"d-flex flex-column text-left p-3\">\n",
      "<h4 style=\"overflow: hidden; text-overflow: ellipsis; white-space: nowrap;\">Alabama vs. <br/>Chattanooga</h4>\n",
      "<h5 class=\"upcomingGameSpan\">November 18</h5>\n",
      "<div class=\"d-flex justify-content-between\">\n",
      "<div class=\"d-flex justify-content-end flex-column align-items-start\">\n",
      "<h5>Lowest Price</h5>\n",
      "<h3 class=\"mb-1 mt-0 font-weight-bold\">N/A</h3>\n",
      "</div>\n",
      "<div class=\"d-flex justify-content-end flex-column align-items-end\">\n",
      "<h4 class=\"m-0\" style=\"color:#adadad;\">0 Sold</h4>\n",
      "<h4 class=\"m-0\" style=\"color:#adadad;\">0 Listed</h4>\n",
      "</div>\n",
      "</div>\n",
      "<span class=\"upcomingGameSpan\">Last Sale: N/A</span>\n",
      "</div>\n",
      "<span class=\"upcomingGameSport Football\"><img alt=\"Football icon on game card\" src=\"/images/icons/Football/Icon.svg\" style=\"padding: 4px;\">Football</img></span>\n",
      "</a>\n",
      "</div>\n",
      "No student tickets are currently availible to buy/sell\n"
     ]
    },
    {
     "ename": "",
     "evalue": "",
     "output_type": "error",
     "traceback": [
      "\u001b[1;31mThe Kernel crashed while executing code in the the current cell or a previous cell. Please review the code in the cell(s) to identify a possible cause of the failure. Click <a href='https://aka.ms/vscodeJupyterKernelCrash'>here</a> for more info. View Jupyter <a href='command:jupyter.viewOutput'>log</a> for further details."
     ]
    }
   ],
   "source": [
    "soup = BeautifulSoup(rr.content, \"html.parser\")\n",
    "table=soup.find('div',{'id':sport, 'class': 'container'})\n",
    "    \n",
    "if not found_valid:\n",
    "    print(\"No student tickets are currently availible to buy/sell\")\n",
    "    exit()\n"
   ]
  }
 ],
 "metadata": {
  "kernelspec": {
   "display_name": "venv",
   "language": "python",
   "name": "python3"
  },
  "language_info": {
   "codemirror_mode": {
    "name": "ipython",
    "version": 3
   },
   "file_extension": ".py",
   "mimetype": "text/x-python",
   "name": "python",
   "nbconvert_exporter": "python",
   "pygments_lexer": "ipython3",
   "version": "3.9.6"
  }
 },
 "nbformat": 4,
 "nbformat_minor": 2
}
